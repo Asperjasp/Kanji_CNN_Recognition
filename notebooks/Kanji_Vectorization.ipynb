{
 "cells": [
  {
   "cell_type": "markdown",
   "metadata": {},
   "source": [
    "Short Cut Practice for Ipynb\n",
    "In Command mode:\n",
    "- a ( Above Cell)\n",
    "- b ( Below Cell )\n",
    "- d ( Delete cell)\n"
   ]
  },
  {
   "cell_type": "code",
   "execution_count": null,
   "metadata": {},
   "outputs": [],
   "source": [
    "import json\n",
    "\n",
    "Radical_Dict = {\n",
    "    \"休\": [\"⼈\", \"⽊\"],  # \"Rest\" is made of \"Person\" and \"Tree\"\n",
    "    \"泳\": [\"⽔\", \"永\"],  # \"Swim\" has \"Water\" and \"Eternal\"    \n",
    "    \n",
    "    \n",
    "    \n",
    "}\n",
    "\n",
    "# Save it to the JSON file\n",
    "# The test is going to be with some of the radicals for water and person, if it works I'll be adding more in the future.\n",
    "\n",
    "\n",
    "with open('Recognition_Data/radicals.json', 'w') as f:\n",
    "    json.dump(Radical_Dict, f)\n",
    "    \n",
    "\n"
   ]
  }
 ],
 "metadata": {
  "kernelspec": {
   "display_name": "Data_ML",
   "language": "python",
   "name": "python3"
  },
  "language_info": {
   "codemirror_mode": {
    "name": "ipython",
    "version": 3
   },
   "file_extension": ".py",
   "mimetype": "text/x-python",
   "name": "python",
   "nbconvert_exporter": "python",
   "pygments_lexer": "ipython3",
   "version": "3.12.7"
  }
 },
 "nbformat": 4,
 "nbformat_minor": 2
}
