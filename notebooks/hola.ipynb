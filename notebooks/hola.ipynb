{
 "cells": [
  {
   "cell_type": "code",
   "execution_count": null,
   "metadata": {
    "vscode": {
     "languageId": "plaintext"
    }
   },
   "outputs": [],
   "source": [
    "import matplotlib.pyplot as plt\n",
    "from mpl_toolkits.mplot3d import Axes3D\n",
    "\n",
    "fig = plt.figure()\n",
    "ax = fig.add_subplot(111, projection='3d')\n",
    "\n",
    "# Example stroke weights for different Kanji\n",
    "kanji_strokes = np.random.rand(10, 3)  # 10 Kanji samples\n",
    "\n",
    "ax.scatter(kanji_strokes[:, 0], kanji_strokes[:, 1], kanji_strokes[:, 2])\n",
    "ax.set_xlabel(\"Horizontal Stroke Weight\")\n",
    "ax.set_ylabel(\"Vertical Stroke Weight\")\n",
    "ax.set_zlabel(\"Diagonal Stroke Weight\")\n",
    "ax.set_title(\"Stroke Decomposition in 3D\")\n",
    "\n",
    "plt.show()\n",
    "\n"
   ]
  }
 ],
 "metadata": {
  "language_info": {
   "name": "python"
  }
 },
 "nbformat": 4,
 "nbformat_minor": 2
}
