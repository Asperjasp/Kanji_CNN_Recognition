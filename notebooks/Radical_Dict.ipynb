{
 "cells": [
  {
   "cell_type": "code",
   "execution_count": null,
   "metadata": {
    "vscode": {
     "languageId": "plaintext"
    }
   },
   "outputs": [],
   "source": [
    "import json\n",
    "\n",
    "# Radical Dictionary\n",
    "# Contains all ( most ) radicals that are withing any particular kanji, for later with the radicals list\n",
    "# Compare and check which checks fo whatever the raricals in the kanji are\n",
    "Radical_Dict = {\n",
    "\n",
    "\n",
    "\n",
    "}\n",
    "# \n",
    "# Save to json\n",
    "with open(\"data/Radical_data/radicals.json\", \"w\") as f:\n",
    "    json.dump(Radical_Dict, f)"
   ]
  }
 ],
 "metadata": {
  "language_info": {
   "name": "python"
  }
 },
 "nbformat": 4,
 "nbformat_minor": 2
}
